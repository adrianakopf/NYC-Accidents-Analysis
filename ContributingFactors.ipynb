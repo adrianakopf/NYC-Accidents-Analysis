{
 "cells": [
  {
   "cell_type": "markdown",
   "metadata": {},
   "source": [
    "# ANALYSIS OF NYPD MOTOR VEHICLE COLLISIONS\n",
    "* DataSource: https://data.cityofnewyork.us/Public-Safety/NYPD-Motor-Vehicle-Collisions/h9gi-nx95/data\n",
    "---         \n",
    "            \n",
    "### The full analysis will consist of the following:\n",
    "* WHEN accidents happen\n",
    "* WHY accidents happen\n",
    "* WHERE accidents happen\n",
    "* Is it possible to the contributing factors of accidents?\n",
    "---\n",
    "        \n",
    "### This analysis will consider the WHY \n",
    "\n",
    "#### CONTRIBUTING FACTORS of the accidents in NYC Boroughs\n",
    "\n",
    "* Find total number of accidents by all contributing factors\n",
    "* Analyse contributing factors by category: injured vs killed\n",
    "* Find the biggest contributing factors related to the accidents over the years in the available dataset"
   ]
  },
  {
   "cell_type": "code",
   "execution_count": 2,
   "metadata": {},
   "outputs": [
    {
     "data": {
      "text/html": [
       "<div>\n",
       "<style scoped>\n",
       "    .dataframe tbody tr th:only-of-type {\n",
       "        vertical-align: middle;\n",
       "    }\n",
       "\n",
       "    .dataframe tbody tr th {\n",
       "        vertical-align: top;\n",
       "    }\n",
       "\n",
       "    .dataframe thead th {\n",
       "        text-align: right;\n",
       "    }\n",
       "</style>\n",
       "<table border=\"1\" class=\"dataframe\">\n",
       "  <thead>\n",
       "    <tr style=\"text-align: right;\">\n",
       "      <th></th>\n",
       "      <th>DATE</th>\n",
       "      <th>TIME</th>\n",
       "      <th>BOROUGH</th>\n",
       "      <th>ZIP CODE</th>\n",
       "      <th>LATITUDE</th>\n",
       "      <th>LONGITUDE</th>\n",
       "      <th>LOCATION</th>\n",
       "      <th>ON STREET NAME</th>\n",
       "      <th>CROSS STREET NAME</th>\n",
       "      <th>OFF STREET NAME</th>\n",
       "      <th>...</th>\n",
       "      <th>NUMBER OF PERSONS KILLED</th>\n",
       "      <th>NUMBER OF PEDESTRIANS INJURED</th>\n",
       "      <th>NUMBER OF PEDESTRIANS KILLED</th>\n",
       "      <th>NUMBER OF CYCLIST INJURED</th>\n",
       "      <th>NUMBER OF CYCLIST KILLED</th>\n",
       "      <th>NUMBER OF MOTORIST INJURED</th>\n",
       "      <th>NUMBER OF MOTORIST KILLED</th>\n",
       "      <th>CONTRIBUTING FACTOR VEHICLE 1</th>\n",
       "      <th>UNIQUE KEY</th>\n",
       "      <th>VEHICLE TYPE CODE 1</th>\n",
       "    </tr>\n",
       "  </thead>\n",
       "  <tbody>\n",
       "    <tr>\n",
       "      <th>0</th>\n",
       "      <td>4/22/2019</td>\n",
       "      <td>0:05</td>\n",
       "      <td>MANHATTAN</td>\n",
       "      <td>10002</td>\n",
       "      <td>40.716476</td>\n",
       "      <td>-73.99283</td>\n",
       "      <td>(40.716476, -73.99283)</td>\n",
       "      <td>ELDRIDGE STREET</td>\n",
       "      <td>HESTER STREET</td>\n",
       "      <td>NaN</td>\n",
       "      <td>...</td>\n",
       "      <td>0.0</td>\n",
       "      <td>0</td>\n",
       "      <td>0</td>\n",
       "      <td>0</td>\n",
       "      <td>0</td>\n",
       "      <td>0</td>\n",
       "      <td>0</td>\n",
       "      <td>Tow Hitch Defective</td>\n",
       "      <td>4119391</td>\n",
       "      <td>Station Wagon/Sport Utility Vehicle</td>\n",
       "    </tr>\n",
       "    <tr>\n",
       "      <th>1</th>\n",
       "      <td>4/22/2019</td>\n",
       "      <td>0:15</td>\n",
       "      <td>BROOKLYN</td>\n",
       "      <td>11238</td>\n",
       "      <td>40.681750</td>\n",
       "      <td>-73.96748</td>\n",
       "      <td>(40.68175, -73.96748)</td>\n",
       "      <td>ATLANTIC AVENUE</td>\n",
       "      <td>VANDERBILT AVENUE</td>\n",
       "      <td>NaN</td>\n",
       "      <td>...</td>\n",
       "      <td>0.0</td>\n",
       "      <td>0</td>\n",
       "      <td>0</td>\n",
       "      <td>0</td>\n",
       "      <td>0</td>\n",
       "      <td>0</td>\n",
       "      <td>0</td>\n",
       "      <td>Unsafe Lane Changing</td>\n",
       "      <td>4119116</td>\n",
       "      <td>Tractor Truck Diesel</td>\n",
       "    </tr>\n",
       "    <tr>\n",
       "      <th>2</th>\n",
       "      <td>4/22/2019</td>\n",
       "      <td>0:15</td>\n",
       "      <td>QUEENS</td>\n",
       "      <td>11434</td>\n",
       "      <td>40.664017</td>\n",
       "      <td>-73.76860</td>\n",
       "      <td>(40.664017, -73.7686)</td>\n",
       "      <td>FARMERS BOULEVARD</td>\n",
       "      <td>BREWER BOULEVARD</td>\n",
       "      <td>NaN</td>\n",
       "      <td>...</td>\n",
       "      <td>0.0</td>\n",
       "      <td>0</td>\n",
       "      <td>0</td>\n",
       "      <td>0</td>\n",
       "      <td>0</td>\n",
       "      <td>1</td>\n",
       "      <td>0</td>\n",
       "      <td>Unspecified</td>\n",
       "      <td>4118449</td>\n",
       "      <td>Station Wagon/Sport Utility Vehicle</td>\n",
       "    </tr>\n",
       "    <tr>\n",
       "      <th>3</th>\n",
       "      <td>4/22/2019</td>\n",
       "      <td>0:30</td>\n",
       "      <td>BROOKLYN</td>\n",
       "      <td>11219</td>\n",
       "      <td>40.622326</td>\n",
       "      <td>-73.99806</td>\n",
       "      <td>(40.622326, -73.99806)</td>\n",
       "      <td>NaN</td>\n",
       "      <td>NaN</td>\n",
       "      <td>6615      NEW UTRECHT AVENUE</td>\n",
       "      <td>...</td>\n",
       "      <td>0.0</td>\n",
       "      <td>0</td>\n",
       "      <td>0</td>\n",
       "      <td>0</td>\n",
       "      <td>0</td>\n",
       "      <td>0</td>\n",
       "      <td>0</td>\n",
       "      <td>Driver Inattention/Distraction</td>\n",
       "      <td>4119011</td>\n",
       "      <td>Pick-up Truck</td>\n",
       "    </tr>\n",
       "    <tr>\n",
       "      <th>4</th>\n",
       "      <td>4/22/2019</td>\n",
       "      <td>0:30</td>\n",
       "      <td>BROOKLYN</td>\n",
       "      <td>11228</td>\n",
       "      <td>40.607464</td>\n",
       "      <td>-74.01486</td>\n",
       "      <td>(40.607464, -74.01486)</td>\n",
       "      <td>NaN</td>\n",
       "      <td>NaN</td>\n",
       "      <td>236       BAY 8 STREET</td>\n",
       "      <td>...</td>\n",
       "      <td>0.0</td>\n",
       "      <td>0</td>\n",
       "      <td>0</td>\n",
       "      <td>0</td>\n",
       "      <td>0</td>\n",
       "      <td>0</td>\n",
       "      <td>0</td>\n",
       "      <td>Fell Asleep</td>\n",
       "      <td>4118458</td>\n",
       "      <td>Convertible</td>\n",
       "    </tr>\n",
       "  </tbody>\n",
       "</table>\n",
       "<p>5 rows × 21 columns</p>\n",
       "</div>"
      ],
      "text/plain": [
       "        DATE  TIME    BOROUGH ZIP CODE   LATITUDE  LONGITUDE  \\\n",
       "0  4/22/2019  0:05  MANHATTAN    10002  40.716476  -73.99283   \n",
       "1  4/22/2019  0:15   BROOKLYN    11238  40.681750  -73.96748   \n",
       "2  4/22/2019  0:15     QUEENS    11434  40.664017  -73.76860   \n",
       "3  4/22/2019  0:30   BROOKLYN    11219  40.622326  -73.99806   \n",
       "4  4/22/2019  0:30   BROOKLYN    11228  40.607464  -74.01486   \n",
       "\n",
       "                 LOCATION                    ON STREET NAME  \\\n",
       "0  (40.716476, -73.99283)  ELDRIDGE STREET                    \n",
       "1   (40.68175, -73.96748)  ATLANTIC AVENUE                    \n",
       "2   (40.664017, -73.7686)  FARMERS BOULEVARD                  \n",
       "3  (40.622326, -73.99806)                               NaN   \n",
       "4  (40.607464, -74.01486)                               NaN   \n",
       "\n",
       "   CROSS STREET NAME                           OFF STREET NAME  ...  \\\n",
       "0      HESTER STREET                                       NaN  ...   \n",
       "1  VANDERBILT AVENUE                                       NaN  ...   \n",
       "2   BREWER BOULEVARD                                       NaN  ...   \n",
       "3                NaN  6615      NEW UTRECHT AVENUE              ...   \n",
       "4                NaN  236       BAY 8 STREET                    ...   \n",
       "\n",
       "   NUMBER OF PERSONS KILLED  NUMBER OF PEDESTRIANS INJURED  \\\n",
       "0                       0.0                              0   \n",
       "1                       0.0                              0   \n",
       "2                       0.0                              0   \n",
       "3                       0.0                              0   \n",
       "4                       0.0                              0   \n",
       "\n",
       "   NUMBER OF PEDESTRIANS KILLED  NUMBER OF CYCLIST INJURED  \\\n",
       "0                             0                          0   \n",
       "1                             0                          0   \n",
       "2                             0                          0   \n",
       "3                             0                          0   \n",
       "4                             0                          0   \n",
       "\n",
       "   NUMBER OF CYCLIST KILLED  NUMBER OF MOTORIST INJURED  \\\n",
       "0                         0                           0   \n",
       "1                         0                           0   \n",
       "2                         0                           1   \n",
       "3                         0                           0   \n",
       "4                         0                           0   \n",
       "\n",
       "   NUMBER OF MOTORIST KILLED   CONTRIBUTING FACTOR VEHICLE 1 UNIQUE KEY  \\\n",
       "0                          0             Tow Hitch Defective    4119391   \n",
       "1                          0            Unsafe Lane Changing    4119116   \n",
       "2                          0                     Unspecified    4118449   \n",
       "3                          0  Driver Inattention/Distraction    4119011   \n",
       "4                          0                     Fell Asleep    4118458   \n",
       "\n",
       "                   VEHICLE TYPE CODE 1  \n",
       "0  Station Wagon/Sport Utility Vehicle  \n",
       "1                 Tractor Truck Diesel  \n",
       "2  Station Wagon/Sport Utility Vehicle  \n",
       "3                        Pick-up Truck  \n",
       "4                          Convertible  \n",
       "\n",
       "[5 rows x 21 columns]"
      ]
     },
     "execution_count": 2,
     "metadata": {},
     "output_type": "execute_result"
    }
   ],
   "source": [
    "# Import required packages\n",
    "import pandas as pd\n",
    "import numpy as np\n",
    "import datetime\n",
    "\n",
    "\n",
    "#Loading NYPD dataset\n",
    "#Displaying data using pandas dataframe\n",
    "#The correct encoding must be used to read the CSV in pandas ISO-8859-1\n",
    "\n",
    "data_load = \"NYPD-Data.csv\"\n",
    "data = pd.read_csv(data_load, encoding=\"ISO-8859-1\", low_memory=False)\n",
    "\n",
    "df = pd.DataFrame(data)\n",
    "df.head()\n"
   ]
  },
  {
   "cell_type": "code",
   "execution_count": 3,
   "metadata": {},
   "outputs": [],
   "source": [
    "df.drop('BOROUGH', axis='columns', inplace=True)\n",
    "df.drop('TIME', axis='columns', inplace=True)\n",
    "df.drop('ZIP CODE', axis='columns', inplace=True)\n",
    "df.drop('ON STREET NAME', axis='columns', inplace=True)\n",
    "df.drop('OFF STREET NAME', axis='columns', inplace=True)\n",
    "df.drop('CROSS STREET NAME', axis='columns', inplace=True)\n",
    "df.drop('UNIQUE KEY', axis='columns', inplace=True)"
   ]
  },
  {
   "cell_type": "code",
   "execution_count": 4,
   "metadata": {},
   "outputs": [
    {
     "ename": "NameError",
     "evalue": "name 'data_df' is not defined",
     "output_type": "error",
     "traceback": [
      "\u001b[1;31m---------------------------------------------------------------------------\u001b[0m",
      "\u001b[1;31mNameError\u001b[0m                                 Traceback (most recent call last)",
      "\u001b[1;32m<ipython-input-4-bfc2a516bb81>\u001b[0m in \u001b[0;36m<module>\u001b[1;34m\u001b[0m\n\u001b[0;32m      1\u001b[0m \u001b[1;31m#Total registed accidents in the dataset\u001b[0m\u001b[1;33m\u001b[0m\u001b[1;33m\u001b[0m\u001b[1;33m\u001b[0m\u001b[0m\n\u001b[1;32m----> 2\u001b[1;33m \u001b[0maccidents\u001b[0m \u001b[1;33m=\u001b[0m \u001b[0mdata_df\u001b[0m\u001b[1;33m[\u001b[0m\u001b[1;34m'UNIQUE KEY'\u001b[0m\u001b[1;33m]\u001b[0m\u001b[1;33m.\u001b[0m\u001b[0mcount\u001b[0m\u001b[1;33m(\u001b[0m\u001b[1;33m)\u001b[0m\u001b[1;33m\u001b[0m\u001b[1;33m\u001b[0m\u001b[0m\n\u001b[0m\u001b[0;32m      3\u001b[0m \u001b[0mprint\u001b[0m\u001b[1;33m(\u001b[0m\u001b[1;34m'Total number of registed accidents:'\u001b[0m\u001b[1;33m,\u001b[0m \u001b[0maccidents\u001b[0m\u001b[1;33m)\u001b[0m\u001b[1;33m\u001b[0m\u001b[1;33m\u001b[0m\u001b[0m\n",
      "\u001b[1;31mNameError\u001b[0m: name 'data_df' is not defined"
     ]
    }
   ],
   "source": [
    "#Total registed accidents in the dataset\n",
    "accidents = data_df['UNIQUE KEY'].count()\n",
    "print('Total number of registed accidents:', accidents)"
   ]
  },
  {
   "cell_type": "code",
   "execution_count": null,
   "metadata": {},
   "outputs": [],
   "source": [
    "#Checking data types\n",
    "df.dtypes"
   ]
  },
  {
   "cell_type": "code",
   "execution_count": null,
   "metadata": {},
   "outputs": [],
   "source": [
    "# Rename columns\n",
    "df.columns = ['date', 'latitude', 'longitude', 'location', 'injured', 'killed', \n",
    "              'pedestrian_injured', 'pedestrian_killed', 'cyclist_injured', 'cyclist_killed',\n",
    "             'motorist_injured', 'motorist_killed', 'cont_factor', 'vehicle']    \n",
    "df.head()"
   ]
  },
  {
   "cell_type": "code",
   "execution_count": null,
   "metadata": {},
   "outputs": [],
   "source": [
    "#Converting 'date' to datetime and 'injured' and 'killed' to numeric\n",
    "df['date'] = pd.to_datetime(df['date'])\n",
    "\n",
    "df.dtypes\n"
   ]
  },
  {
   "cell_type": "code",
   "execution_count": null,
   "metadata": {},
   "outputs": [],
   "source": [
    "#Extract year from 'DATE' and create separate collumns\n",
    "df['year'] = pd.DatetimeIndex(df['date']).year\n",
    "df['month'] = pd.DatetimeIndex(df['date']).month\n",
    "\n",
    "df.head()"
   ]
  },
  {
   "cell_type": "code",
   "execution_count": null,
   "metadata": {},
   "outputs": [],
   "source": [
    "#Replace values based on spelling \n",
    "df['cont_factor'].replace('Drugs (Illegal)', 'Drugs (illegal)', inplace=True)\n"
   ]
  },
  {
   "cell_type": "code",
   "execution_count": null,
   "metadata": {},
   "outputs": [],
   "source": [
    "df['cont_factor'].replace('Cell Phone (hand-Held)', 'Cell Phone (hand-held) ', inplace=True)\n"
   ]
  },
  {
   "cell_type": "code",
   "execution_count": null,
   "metadata": {},
   "outputs": [],
   "source": [
    "df['cont_factor'].replace('Cell Phone (hand-held)', 'Cell Phone (hand-held) ', inplace=True)\n"
   ]
  },
  {
   "cell_type": "code",
   "execution_count": null,
   "metadata": {},
   "outputs": [],
   "source": [
    "df['date'].min()\n"
   ]
  },
  {
   "cell_type": "code",
   "execution_count": null,
   "metadata": {},
   "outputs": [],
   "source": [
    "df['date'].max()\n"
   ]
  },
  {
   "cell_type": "code",
   "execution_count": null,
   "metadata": {},
   "outputs": [],
   "source": [
    "#Finding percentage values of 'contributing factors' in the dataset\n",
    "df[\"cont_factor\"].value_counts(normalize=True)\n",
    "\n"
   ]
  },
  {
   "cell_type": "markdown",
   "metadata": {},
   "source": [
    "## ANALYSING THE CONTRIBUTING FACTORS BY YEAR"
   ]
  },
  {
   "cell_type": "code",
   "execution_count": null,
   "metadata": {},
   "outputs": [],
   "source": [
    "#Analyse 'MAJOR CONTRIBUTING FACTORS' by 'YEAR'\n",
    "# df.groupby(['YEAR', 'MAJOR CONTRIBUTING FACTOR']).max().head()\n",
    "df.groupby(['year']).MAJOR CONTRIBUTING FACTOR.value_counts(normalize=True)"
   ]
  },
  {
   "cell_type": "code",
   "execution_count": null,
   "metadata": {},
   "outputs": [],
   "source": [
    "#Analyse 'MAJOR CONTRIBUTING FACTORS' BY 'YEAR' and 'MONTH'\n",
    "df.groupby(['cont_factor', 'year', 'month']).sum().head()"
   ]
  },
  {
   "cell_type": "code",
   "execution_count": null,
   "metadata": {},
   "outputs": [],
   "source": [
    "print('2018: NUMBER OF ACCIDENTS BY CATEGORY THAT CAUSED INJURY OR DEATH:')\n",
    "df[(df.date.dt.year > 2017) & (df.date.dt.year <= 2018)].max()\n"
   ]
  },
  {
   "cell_type": "code",
   "execution_count": null,
   "metadata": {},
   "outputs": [],
   "source": [
    "print('2017: NUMBER OF ACCIDENTS BY CATEGORY THAT CAUSED INJURY OR DEATH:')\n",
    "d = df[(df.date.dt.year > 2016) & (df.date.dt.year <= 2017)]\n"
   ]
  },
  {
   "cell_type": "code",
   "execution_count": null,
   "metadata": {},
   "outputs": [],
   "source": [
    "# Descriptive statistics by 'YEAR' and 'MAJOR CONTRIBUTING FACTOR'\n",
    "df.groupby(['year', 'cont_factor']).describe().head()"
   ]
  },
  {
   "cell_type": "code",
   "execution_count": null,
   "metadata": {},
   "outputs": [],
   "source": [
    "#Save clean file in exccel to make analysis in Tableau\n",
    "df.to_excel(\"factors.xlsx\", index=False)\n",
    "# df.to_csv(\"factors_csv.csv\", index=False)\n"
   ]
  },
  {
   "cell_type": "code",
   "execution_count": null,
   "metadata": {},
   "outputs": [],
   "source": []
  },
  {
   "cell_type": "code",
   "execution_count": null,
   "metadata": {},
   "outputs": [],
   "source": []
  },
  {
   "cell_type": "code",
   "execution_count": null,
   "metadata": {},
   "outputs": [],
   "source": []
  },
  {
   "cell_type": "code",
   "execution_count": null,
   "metadata": {},
   "outputs": [],
   "source": []
  },
  {
   "cell_type": "code",
   "execution_count": null,
   "metadata": {},
   "outputs": [],
   "source": []
  },
  {
   "cell_type": "code",
   "execution_count": null,
   "metadata": {},
   "outputs": [],
   "source": []
  }
 ],
 "metadata": {
  "kernelspec": {
   "display_name": "Python 3",
   "language": "python",
   "name": "python3"
  },
  "language_info": {
   "codemirror_mode": {
    "name": "ipython",
    "version": 3
   },
   "file_extension": ".py",
   "mimetype": "text/x-python",
   "name": "python",
   "nbconvert_exporter": "python",
   "pygments_lexer": "ipython3",
   "version": "3.6.8"
  }
 },
 "nbformat": 4,
 "nbformat_minor": 2
}
