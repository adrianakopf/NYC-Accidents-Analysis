{
 "cells": [
  {
   "cell_type": "code",
   "execution_count": 1,
   "metadata": {},
   "outputs": [],
   "source": [
    "%matplotlib inline\n",
    "import matplotlib.pyplot as plt\n",
    "import numpy as np\n",
    "import pandas as pd\n",
    "import itertools\n",
    "import os\n",
    "from pandas import ExcelWriter\n",
    "from pandas import ExcelFile"
   ]
  },
  {
   "cell_type": "code",
   "execution_count": 2,
   "metadata": {},
   "outputs": [
    {
     "data": {
      "text/html": [
       "<div>\n",
       "<style scoped>\n",
       "    .dataframe tbody tr th:only-of-type {\n",
       "        vertical-align: middle;\n",
       "    }\n",
       "\n",
       "    .dataframe tbody tr th {\n",
       "        vertical-align: top;\n",
       "    }\n",
       "\n",
       "    .dataframe thead th {\n",
       "        text-align: right;\n",
       "    }\n",
       "</style>\n",
       "<table border=\"1\" class=\"dataframe\">\n",
       "  <thead>\n",
       "    <tr style=\"text-align: right;\">\n",
       "      <th></th>\n",
       "      <th>LIGHT_CODE</th>\n",
       "      <th>COUNTY_NO</th>\n",
       "      <th>MUNI_CODE</th>\n",
       "      <th>JUNCTION_CODE</th>\n",
       "      <th>COLLISION_TYPE_CODE</th>\n",
       "      <th>SURF_COND_CODE</th>\n",
       "      <th>LANE_CODE</th>\n",
       "      <th>RD_COND_CODE</th>\n",
       "      <th>RD_DIV_CODE</th>\n",
       "      <th>FIX_OBJ_CODE</th>\n",
       "      <th>...</th>\n",
       "      <th>MAINROAD_NAME</th>\n",
       "      <th>DISTANCE</th>\n",
       "      <th>FEET_MILES_FLAG</th>\n",
       "      <th>DISTANCE_DIR_FLAG</th>\n",
       "      <th>REFERENCE_NO</th>\n",
       "      <th>REFERENCE_TYPE_CODE</th>\n",
       "      <th>REFERENCE_SUFFIX</th>\n",
       "      <th>REFERENCE_ROAD_NAME</th>\n",
       "      <th>LATITUDE</th>\n",
       "      <th>LONGITUDE</th>\n",
       "    </tr>\n",
       "  </thead>\n",
       "  <tbody>\n",
       "    <tr>\n",
       "      <th>0</th>\n",
       "      <td>1.0</td>\n",
       "      <td>1</td>\n",
       "      <td>0.0</td>\n",
       "      <td>0.0</td>\n",
       "      <td>17</td>\n",
       "      <td>4.00</td>\n",
       "      <td>NaN</td>\n",
       "      <td>1.0</td>\n",
       "      <td>4.0</td>\n",
       "      <td>5.0</td>\n",
       "      <td>...</td>\n",
       "      <td>NATIONAL FREEWAY</td>\n",
       "      <td>NaN</td>\n",
       "      <td>M</td>\n",
       "      <td>E</td>\n",
       "      <td>948.0</td>\n",
       "      <td>MD</td>\n",
       "      <td>AE</td>\n",
       "      <td>ROCKY GAP RD</td>\n",
       "      <td>39.685487</td>\n",
       "      <td>-78.663731</td>\n",
       "    </tr>\n",
       "    <tr>\n",
       "      <th>1</th>\n",
       "      <td>1.0</td>\n",
       "      <td>1</td>\n",
       "      <td>0.0</td>\n",
       "      <td>1.0</td>\n",
       "      <td>3</td>\n",
       "      <td>2.00</td>\n",
       "      <td>3.0</td>\n",
       "      <td>1.0</td>\n",
       "      <td>4.0</td>\n",
       "      <td>0.0</td>\n",
       "      <td>...</td>\n",
       "      <td>NATIONAL FREEWAY</td>\n",
       "      <td>NaN</td>\n",
       "      <td>M</td>\n",
       "      <td>E</td>\n",
       "      <td>0.0</td>\n",
       "      <td>UU</td>\n",
       "      <td>NaN</td>\n",
       "      <td>EXIT #50</td>\n",
       "      <td>39.694548</td>\n",
       "      <td>-78.646117</td>\n",
       "    </tr>\n",
       "    <tr>\n",
       "      <th>2</th>\n",
       "      <td>3.0</td>\n",
       "      <td>1</td>\n",
       "      <td>0.0</td>\n",
       "      <td>1.0</td>\n",
       "      <td>17</td>\n",
       "      <td>6.03</td>\n",
       "      <td>NaN</td>\n",
       "      <td>1.0</td>\n",
       "      <td>4.0</td>\n",
       "      <td>6.0</td>\n",
       "      <td>...</td>\n",
       "      <td>NATIONAL FREEWAY</td>\n",
       "      <td>NaN</td>\n",
       "      <td>M</td>\n",
       "      <td>E</td>\n",
       "      <td>948.0</td>\n",
       "      <td>MD</td>\n",
       "      <td>AD</td>\n",
       "      <td>PLEASANT VALLEY RD</td>\n",
       "      <td>39.692434</td>\n",
       "      <td>-78.655065</td>\n",
       "    </tr>\n",
       "    <tr>\n",
       "      <th>3</th>\n",
       "      <td>4.0</td>\n",
       "      <td>1</td>\n",
       "      <td>0.0</td>\n",
       "      <td>1.0</td>\n",
       "      <td>17</td>\n",
       "      <td>5.00</td>\n",
       "      <td>NaN</td>\n",
       "      <td>5.0</td>\n",
       "      <td>4.0</td>\n",
       "      <td>5.0</td>\n",
       "      <td>...</td>\n",
       "      <td>NATIONAL FREEWAY</td>\n",
       "      <td>NaN</td>\n",
       "      <td>F</td>\n",
       "      <td>W</td>\n",
       "      <td>0.0</td>\n",
       "      <td>UU</td>\n",
       "      <td>NaN</td>\n",
       "      <td>EXIT #52</td>\n",
       "      <td>39.704880</td>\n",
       "      <td>-78.626501</td>\n",
       "    </tr>\n",
       "    <tr>\n",
       "      <th>4</th>\n",
       "      <td>1.0</td>\n",
       "      <td>1</td>\n",
       "      <td>0.0</td>\n",
       "      <td>1.0</td>\n",
       "      <td>17</td>\n",
       "      <td>2.00</td>\n",
       "      <td>NaN</td>\n",
       "      <td>1.0</td>\n",
       "      <td>4.0</td>\n",
       "      <td>11.0</td>\n",
       "      <td>...</td>\n",
       "      <td>NATIONAL FREEWAY</td>\n",
       "      <td>NaN</td>\n",
       "      <td>M</td>\n",
       "      <td>E</td>\n",
       "      <td>144.0</td>\n",
       "      <td>MD</td>\n",
       "      <td>NaN</td>\n",
       "      <td>NATIONAL PIKE</td>\n",
       "      <td>39.712112</td>\n",
       "      <td>-78.617912</td>\n",
       "    </tr>\n",
       "  </tbody>\n",
       "</table>\n",
       "<p>5 rows × 37 columns</p>\n",
       "</div>"
      ],
      "text/plain": [
       "   LIGHT_CODE  COUNTY_NO  MUNI_CODE  JUNCTION_CODE  COLLISION_TYPE_CODE  \\\n",
       "0         1.0          1        0.0            0.0                   17   \n",
       "1         1.0          1        0.0            1.0                    3   \n",
       "2         3.0          1        0.0            1.0                   17   \n",
       "3         4.0          1        0.0            1.0                   17   \n",
       "4         1.0          1        0.0            1.0                   17   \n",
       "\n",
       "   SURF_COND_CODE  LANE_CODE  RD_COND_CODE  RD_DIV_CODE  FIX_OBJ_CODE  \\\n",
       "0            4.00        NaN           1.0          4.0           5.0   \n",
       "1            2.00        3.0           1.0          4.0           0.0   \n",
       "2            6.03        NaN           1.0          4.0           6.0   \n",
       "3            5.00        NaN           5.0          4.0           5.0   \n",
       "4            2.00        NaN           1.0          4.0          11.0   \n",
       "\n",
       "     ...         MAINROAD_NAME DISTANCE  FEET_MILES_FLAG DISTANCE_DIR_FLAG  \\\n",
       "0    ...      NATIONAL FREEWAY      NaN                M                 E   \n",
       "1    ...      NATIONAL FREEWAY      NaN                M                 E   \n",
       "2    ...      NATIONAL FREEWAY      NaN                M                 E   \n",
       "3    ...      NATIONAL FREEWAY      NaN                F                 W   \n",
       "4    ...      NATIONAL FREEWAY      NaN                M                 E   \n",
       "\n",
       "  REFERENCE_NO REFERENCE_TYPE_CODE REFERENCE_SUFFIX REFERENCE_ROAD_NAME  \\\n",
       "0        948.0                  MD               AE        ROCKY GAP RD   \n",
       "1          0.0                  UU              NaN            EXIT #50   \n",
       "2        948.0                  MD               AD  PLEASANT VALLEY RD   \n",
       "3          0.0                  UU              NaN            EXIT #52   \n",
       "4        144.0                  MD              NaN       NATIONAL PIKE   \n",
       "\n",
       "    LATITUDE  LONGITUDE  \n",
       "0  39.685487 -78.663731  \n",
       "1  39.694548 -78.646117  \n",
       "2  39.692434 -78.655065  \n",
       "3  39.704880 -78.626501  \n",
       "4  39.712112 -78.617912  \n",
       "\n",
       "[5 rows x 37 columns]"
      ]
     },
     "execution_count": 2,
     "metadata": {},
     "output_type": "execute_result"
    }
   ],
   "source": [
    "# Read the multiple sheets from the excel fie\n",
    "crash = pd.read_excel('Resources/Crash_Qtr01_2016.xlsx', sheet_name='CRASH')\n",
    "crashdf = pd.DataFrame(crash)\n",
    "\n",
    "crashdf.head()"
   ]
  },
  {
   "cell_type": "code",
   "execution_count": 3,
   "metadata": {},
   "outputs": [],
   "source": [
    "person = pd.read_excel('Resources/Crash_Qtr01_2016.xlsx', sheet_name='CIRCUM_PERSON')\n",
    "vehicle = pd.read_excel('Resources/Crash_Qtr01_2016.xlsx', sheet_name='CIRCUM_VEHICLE')\n",
    "road = pd.read_excel('Resources/Crash_Qtr01_2016.xlsx', sheet_name='CIRCUM_ROAD')\n",
    "weather = pd.read_excel('Resources/Crash_Qtr01_2016.xlsx', sheet_name='CIRCUM_WEATHER')"
   ]
  },
  {
   "cell_type": "code",
   "execution_count": 11,
   "metadata": {},
   "outputs": [
    {
     "data": {
      "text/html": [
       "<div>\n",
       "<style scoped>\n",
       "    .dataframe tbody tr th:only-of-type {\n",
       "        vertical-align: middle;\n",
       "    }\n",
       "\n",
       "    .dataframe tbody tr th {\n",
       "        vertical-align: top;\n",
       "    }\n",
       "\n",
       "    .dataframe thead th {\n",
       "        text-align: right;\n",
       "    }\n",
       "</style>\n",
       "<table border=\"1\" class=\"dataframe\">\n",
       "  <thead>\n",
       "    <tr style=\"text-align: right;\">\n",
       "      <th></th>\n",
       "      <th>REPORT_NO</th>\n",
       "      <th>PERSON_CODE</th>\n",
       "    </tr>\n",
       "  </thead>\n",
       "  <tbody>\n",
       "    <tr>\n",
       "      <th>0</th>\n",
       "      <td>AE4981000P</td>\n",
       "      <td>7.0</td>\n",
       "    </tr>\n",
       "    <tr>\n",
       "      <th>1</th>\n",
       "      <td>CB5873000L</td>\n",
       "      <td>0.0</td>\n",
       "    </tr>\n",
       "    <tr>\n",
       "      <th>2</th>\n",
       "      <td>MSP6495005B</td>\n",
       "      <td>6.0</td>\n",
       "    </tr>\n",
       "    <tr>\n",
       "      <th>3</th>\n",
       "      <td>MCP3010000G</td>\n",
       "      <td>0.0</td>\n",
       "    </tr>\n",
       "    <tr>\n",
       "      <th>4</th>\n",
       "      <td>ZR03090015</td>\n",
       "      <td>8.0</td>\n",
       "    </tr>\n",
       "  </tbody>\n",
       "</table>\n",
       "</div>"
      ],
      "text/plain": [
       "     REPORT_NO  PERSON_CODE\n",
       "0   AE4981000P          7.0\n",
       "1   CB5873000L          0.0\n",
       "2  MSP6495005B          6.0\n",
       "3  MCP3010000G          0.0\n",
       "4   ZR03090015          8.0"
      ]
     },
     "execution_count": 11,
     "metadata": {},
     "output_type": "execute_result"
    }
   ],
   "source": [
    "crashdf = crashdf.filter(['REPORT_NO', 'COLLISION_TYPE_CODE'], axis = 1)\n",
    "crashdf = crashdf.loc[crashdf[\"COLLISION_TYPE_CODE\"] != 00]\n",
    "crashdf = crashdf.loc[crashdf[\"COLLISION_TYPE_CODE\"] != 88]\n",
    "crashdf = crashdf.loc[crashdf[\"COLLISION_TYPE_CODE\"] != 99]\n",
    "\n",
    "persondf = pd.DataFrame(person)\n",
    "#persondf = persondf.filter(['REPORT_NO', 'CONTRIB_CODE', 'PERSON_ID'], axis = 1)\n",
    "\n",
    "persondf = persondf.filter(['REPORT_NO', 'CONTRIB_CODE'], axis = 1)\n",
    "persondf = persondf.rename(columns={'CONTRIB_CODE': 'PERSON_CODE'})\n",
    "\n",
    "persondf.head()\n",
    "#crashdf.head()"
   ]
  },
  {
   "cell_type": "code",
   "execution_count": 6,
   "metadata": {},
   "outputs": [
    {
     "data": {
      "text/html": [
       "<div>\n",
       "<style scoped>\n",
       "    .dataframe tbody tr th:only-of-type {\n",
       "        vertical-align: middle;\n",
       "    }\n",
       "\n",
       "    .dataframe tbody tr th {\n",
       "        vertical-align: top;\n",
       "    }\n",
       "\n",
       "    .dataframe thead th {\n",
       "        text-align: right;\n",
       "    }\n",
       "</style>\n",
       "<table border=\"1\" class=\"dataframe\">\n",
       "  <thead>\n",
       "    <tr style=\"text-align: right;\">\n",
       "      <th></th>\n",
       "      <th>REPORT_NO</th>\n",
       "      <th>VEHICLE_CODE</th>\n",
       "    </tr>\n",
       "  </thead>\n",
       "  <tbody>\n",
       "    <tr>\n",
       "      <th>0</th>\n",
       "      <td>AE3846000H</td>\n",
       "      <td>0.0</td>\n",
       "    </tr>\n",
       "    <tr>\n",
       "      <th>1</th>\n",
       "      <td>AE4981000P</td>\n",
       "      <td>0.0</td>\n",
       "    </tr>\n",
       "    <tr>\n",
       "      <th>2</th>\n",
       "      <td>AE4981000P</td>\n",
       "      <td>0.0</td>\n",
       "    </tr>\n",
       "    <tr>\n",
       "      <th>3</th>\n",
       "      <td>ADI945001C</td>\n",
       "      <td>0.0</td>\n",
       "    </tr>\n",
       "    <tr>\n",
       "      <th>4</th>\n",
       "      <td>CB5873000L</td>\n",
       "      <td>0.0</td>\n",
       "    </tr>\n",
       "  </tbody>\n",
       "</table>\n",
       "</div>"
      ],
      "text/plain": [
       "    REPORT_NO  VEHICLE_CODE\n",
       "0  AE3846000H           0.0\n",
       "1  AE4981000P           0.0\n",
       "2  AE4981000P           0.0\n",
       "3  ADI945001C           0.0\n",
       "4  CB5873000L           0.0"
      ]
     },
     "execution_count": 6,
     "metadata": {},
     "output_type": "execute_result"
    }
   ],
   "source": [
    "vehicledf = pd.DataFrame(vehicle)\n",
    "vehicledf = vehicledf.filter(['REPORT_NO', 'CONTRIB_CODE', 'VEHICLE_ID'], axis = 1)\n",
    "\n",
    "vehicledf = vehicledf.filter(['REPORT_NO', 'CONTRIB_CODE'], axis = 1)\n",
    "vehicledf = vehicledf.rename(columns={'CONTRIB_CODE': 'VEHICLE_CODE'})\n",
    "\n",
    "vehicledf.head()\n"
   ]
  },
  {
   "cell_type": "code",
   "execution_count": 7,
   "metadata": {},
   "outputs": [
    {
     "data": {
      "text/html": [
       "<div>\n",
       "<style scoped>\n",
       "    .dataframe tbody tr th:only-of-type {\n",
       "        vertical-align: middle;\n",
       "    }\n",
       "\n",
       "    .dataframe tbody tr th {\n",
       "        vertical-align: top;\n",
       "    }\n",
       "\n",
       "    .dataframe thead th {\n",
       "        text-align: right;\n",
       "    }\n",
       "</style>\n",
       "<table border=\"1\" class=\"dataframe\">\n",
       "  <thead>\n",
       "    <tr style=\"text-align: right;\">\n",
       "      <th></th>\n",
       "      <th>REPORT_NO</th>\n",
       "      <th>ROAD_CODE</th>\n",
       "    </tr>\n",
       "  </thead>\n",
       "  <tbody>\n",
       "    <tr>\n",
       "      <th>0</th>\n",
       "      <td>AE3846000H</td>\n",
       "      <td>61.0</td>\n",
       "    </tr>\n",
       "    <tr>\n",
       "      <th>1</th>\n",
       "      <td>ADG3450026</td>\n",
       "      <td>0.0</td>\n",
       "    </tr>\n",
       "    <tr>\n",
       "      <th>2</th>\n",
       "      <td>ADC063001Y</td>\n",
       "      <td>0.0</td>\n",
       "    </tr>\n",
       "    <tr>\n",
       "      <th>3</th>\n",
       "      <td>AE4981000P</td>\n",
       "      <td>0.0</td>\n",
       "    </tr>\n",
       "    <tr>\n",
       "      <th>4</th>\n",
       "      <td>ADI945001C</td>\n",
       "      <td>0.0</td>\n",
       "    </tr>\n",
       "  </tbody>\n",
       "</table>\n",
       "</div>"
      ],
      "text/plain": [
       "    REPORT_NO  ROAD_CODE\n",
       "0  AE3846000H       61.0\n",
       "1  ADG3450026        0.0\n",
       "2  ADC063001Y        0.0\n",
       "3  AE4981000P        0.0\n",
       "4  ADI945001C        0.0"
      ]
     },
     "execution_count": 7,
     "metadata": {},
     "output_type": "execute_result"
    }
   ],
   "source": [
    "roaddf = pd.DataFrame(road)\n",
    "\n",
    "roaddf = roaddf.filter(['REPORT_NO', 'CONTRIB_CODE'], axis = 1)\n",
    "roaddf = roaddf.rename(columns={'CONTRIB_CODE': 'ROAD_CODE'})\n",
    "\n",
    "roaddf.head()"
   ]
  },
  {
   "cell_type": "code",
   "execution_count": 8,
   "metadata": {},
   "outputs": [
    {
     "data": {
      "text/html": [
       "<div>\n",
       "<style scoped>\n",
       "    .dataframe tbody tr th:only-of-type {\n",
       "        vertical-align: middle;\n",
       "    }\n",
       "\n",
       "    .dataframe tbody tr th {\n",
       "        vertical-align: top;\n",
       "    }\n",
       "\n",
       "    .dataframe thead th {\n",
       "        text-align: right;\n",
       "    }\n",
       "</style>\n",
       "<table border=\"1\" class=\"dataframe\">\n",
       "  <thead>\n",
       "    <tr style=\"text-align: right;\">\n",
       "      <th></th>\n",
       "      <th>REPORT_NO</th>\n",
       "      <th>WEATHER_CODE</th>\n",
       "    </tr>\n",
       "  </thead>\n",
       "  <tbody>\n",
       "    <tr>\n",
       "      <th>0</th>\n",
       "      <td>AE3846000H</td>\n",
       "      <td>45.0</td>\n",
       "    </tr>\n",
       "    <tr>\n",
       "      <th>1</th>\n",
       "      <td>ADG3450026</td>\n",
       "      <td>0.0</td>\n",
       "    </tr>\n",
       "    <tr>\n",
       "      <th>2</th>\n",
       "      <td>MSP65850021</td>\n",
       "      <td>0.0</td>\n",
       "    </tr>\n",
       "    <tr>\n",
       "      <th>3</th>\n",
       "      <td>ADC063001Y</td>\n",
       "      <td>47.0</td>\n",
       "    </tr>\n",
       "    <tr>\n",
       "      <th>4</th>\n",
       "      <td>AE4981000P</td>\n",
       "      <td>0.0</td>\n",
       "    </tr>\n",
       "  </tbody>\n",
       "</table>\n",
       "</div>"
      ],
      "text/plain": [
       "     REPORT_NO  WEATHER_CODE\n",
       "0   AE3846000H          45.0\n",
       "1   ADG3450026           0.0\n",
       "2  MSP65850021           0.0\n",
       "3   ADC063001Y          47.0\n",
       "4   AE4981000P           0.0"
      ]
     },
     "execution_count": 8,
     "metadata": {},
     "output_type": "execute_result"
    }
   ],
   "source": [
    "weatherdf = pd.DataFrame(weather)\n",
    "\n",
    "weatherdf = weatherdf.filter(['REPORT_NO', 'CONTRIB_CODE'], axis = 1)\n",
    "weatherdf = weatherdf.rename(columns={'CONTRIB_CODE': 'WEATHER_CODE'})\n",
    "\n",
    "weatherdf.head()"
   ]
  },
  {
   "cell_type": "code",
   "execution_count": 12,
   "metadata": {},
   "outputs": [
    {
     "data": {
      "text/html": [
       "<div>\n",
       "<style scoped>\n",
       "    .dataframe tbody tr th:only-of-type {\n",
       "        vertical-align: middle;\n",
       "    }\n",
       "\n",
       "    .dataframe tbody tr th {\n",
       "        vertical-align: top;\n",
       "    }\n",
       "\n",
       "    .dataframe thead th {\n",
       "        text-align: right;\n",
       "    }\n",
       "</style>\n",
       "<table border=\"1\" class=\"dataframe\">\n",
       "  <thead>\n",
       "    <tr style=\"text-align: right;\">\n",
       "      <th></th>\n",
       "      <th>REPORT_NO</th>\n",
       "      <th>COLLISION_TYPE_CODE</th>\n",
       "      <th>PERSON_CODE</th>\n",
       "      <th>VEHICLE_CODE</th>\n",
       "      <th>ROAD_CODE</th>\n",
       "      <th>WEATHER_CODE</th>\n",
       "    </tr>\n",
       "  </thead>\n",
       "  <tbody>\n",
       "    <tr>\n",
       "      <th>0</th>\n",
       "      <td>MSP25490014</td>\n",
       "      <td>17</td>\n",
       "      <td>21.00</td>\n",
       "      <td>0.0</td>\n",
       "      <td>62.0</td>\n",
       "      <td>42.0</td>\n",
       "    </tr>\n",
       "    <tr>\n",
       "      <th>1</th>\n",
       "      <td>MSP5513001V</td>\n",
       "      <td>3</td>\n",
       "      <td>60.88</td>\n",
       "      <td>0.0</td>\n",
       "      <td>0.0</td>\n",
       "      <td>0.0</td>\n",
       "    </tr>\n",
       "    <tr>\n",
       "      <th>2</th>\n",
       "      <td>MSP5513001V</td>\n",
       "      <td>3</td>\n",
       "      <td>60.88</td>\n",
       "      <td>0.0</td>\n",
       "      <td>0.0</td>\n",
       "      <td>0.0</td>\n",
       "    </tr>\n",
       "    <tr>\n",
       "      <th>3</th>\n",
       "      <td>MSP5513001V</td>\n",
       "      <td>3</td>\n",
       "      <td>7.00</td>\n",
       "      <td>0.0</td>\n",
       "      <td>0.0</td>\n",
       "      <td>0.0</td>\n",
       "    </tr>\n",
       "    <tr>\n",
       "      <th>4</th>\n",
       "      <td>MSP5513001V</td>\n",
       "      <td>3</td>\n",
       "      <td>7.00</td>\n",
       "      <td>0.0</td>\n",
       "      <td>0.0</td>\n",
       "      <td>0.0</td>\n",
       "    </tr>\n",
       "  </tbody>\n",
       "</table>\n",
       "</div>"
      ],
      "text/plain": [
       "     REPORT_NO  COLLISION_TYPE_CODE  PERSON_CODE  VEHICLE_CODE  ROAD_CODE  \\\n",
       "0  MSP25490014                   17        21.00           0.0       62.0   \n",
       "1  MSP5513001V                    3        60.88           0.0        0.0   \n",
       "2  MSP5513001V                    3        60.88           0.0        0.0   \n",
       "3  MSP5513001V                    3         7.00           0.0        0.0   \n",
       "4  MSP5513001V                    3         7.00           0.0        0.0   \n",
       "\n",
       "   WEATHER_CODE  \n",
       "0          42.0  \n",
       "1           0.0  \n",
       "2           0.0  \n",
       "3           0.0  \n",
       "4           0.0  "
      ]
     },
     "execution_count": 12,
     "metadata": {},
     "output_type": "execute_result"
    }
   ],
   "source": [
    "data1 = crashdf.merge(persondf, how='inner', on = 'REPORT_NO')\n",
    "data2 = data1.merge(vehicledf, how='inner', on = 'REPORT_NO')\n",
    "data3 = data2.merge(roaddf, how='inner', on = 'REPORT_NO')\n",
    "data = data3.merge(weatherdf, how='inner', on = 'REPORT_NO')\n",
    "\n",
    "data.head()"
   ]
  },
  {
   "cell_type": "code",
   "execution_count": 112,
   "metadata": {},
   "outputs": [],
   "source": [
    "# Write the  data to an excel file\n",
    "data1.to_excel('Resources/Data1.xlsx')"
   ]
  },
  {
   "cell_type": "code",
   "execution_count": 13,
   "metadata": {},
   "outputs": [
    {
     "data": {
      "text/plain": [
       "REPORT_NO               object\n",
       "COLLISION_TYPE_CODE      int64\n",
       "PERSON_CODE            float64\n",
       "VEHICLE_CODE           float64\n",
       "ROAD_CODE              float64\n",
       "WEATHER_CODE           float64\n",
       "dtype: object"
      ]
     },
     "execution_count": 13,
     "metadata": {},
     "output_type": "execute_result"
    }
   ],
   "source": [
    "#crashdf.count\n",
    "data.dtypes\n",
    "#data[\"REPORT_NO\"] = data[\"REPORT_NO\"].astype(\"float\")\n",
    "#data[\"REPORT_NO\"] = data[\"REPORT_NO\"].astype(\"float\")\n",
    "#data[\"REPORT_NO\"] = data[\"REPORT_NO\"].astype(\"float\")\n",
    "#data[\"REPORT_NO\"] = data[\"REPORT_NO\"].astype(\"float\")"
   ]
  },
  {
   "cell_type": "code",
   "execution_count": 42,
   "metadata": {},
   "outputs": [
    {
     "name": "stdout",
     "output_type": "stream",
     "text": [
      "(78484, 1) (78484,)\n"
     ]
    }
   ],
   "source": [
    "#variables = ['PERSON_CODE', 'ROAD_CODE', 'WEATHER_CODE', 'VEHICLE_CODE']\n",
    "variables = ['ROAD_CODE']\n",
    "X = data[variables]\n",
    "y = data['COLLISION_TYPE_CODE']\n",
    "#X = data.drop(['COLLISION_TYPE_CODE', 'REPORT_NO'],axis=1)\n",
    "#X = data.drop(['COLLISION_TYPE_CODE', 'REPORT_NO', 'REPORT_TYPE','ACC_DATE', 'ACC_TIME','LOC_CODE', 'SIGNAL_FLAG',\n",
    "#              'C_M_ZONE_FLAG', 'AGENCY_CODE', 'AREA_CODE', 'ROUTE_TYPE_CODE','RTE_SUFFIX','LOGMILE_DIR_FLAG',\n",
    "#              'MAINROAD_NAME', 'FEET_MILES_FLAG', 'DISTANCE_DIR_FLAG','REFERENCE_TYPE_CODE','REFERENCE_SUFFIX', \n",
    "#               'REFERENCE_ROAD_NAME'],axis=1)\n",
    "\n",
    "#X = data1['PERSON_CODE']\n",
    "print(X.shape, y.shape)\n",
    "\n"
   ]
  },
  {
   "cell_type": "code",
   "execution_count": 43,
   "metadata": {},
   "outputs": [],
   "source": [
    "from sklearn.model_selection import train_test_split\n",
    "\n",
    "X_train, X_test, y_train, y_test = train_test_split(X, y, random_state=1, stratify=y)"
   ]
  },
  {
   "cell_type": "code",
   "execution_count": 44,
   "metadata": {},
   "outputs": [
    {
     "data": {
      "text/plain": [
       "LogisticRegression(C=1.0, class_weight=None, dual=False, fit_intercept=True,\n",
       "          intercept_scaling=1, max_iter=100, multi_class='warn',\n",
       "          n_jobs=None, penalty='l2', random_state=None, solver='warn',\n",
       "          tol=0.0001, verbose=0, warm_start=False)"
      ]
     },
     "execution_count": 44,
     "metadata": {},
     "output_type": "execute_result"
    }
   ],
   "source": [
    "from sklearn.linear_model import LogisticRegression\n",
    "classifier = LogisticRegression()\n",
    "classifier"
   ]
  },
  {
   "cell_type": "code",
   "execution_count": 45,
   "metadata": {},
   "outputs": [
    {
     "name": "stderr",
     "output_type": "stream",
     "text": [
      "C:\\Users\\uali\\AppData\\Local\\Continuum\\anaconda3\\lib\\site-packages\\sklearn\\linear_model\\logistic.py:433: FutureWarning: Default solver will be changed to 'lbfgs' in 0.22. Specify a solver to silence this warning.\n",
      "  FutureWarning)\n",
      "C:\\Users\\uali\\AppData\\Local\\Continuum\\anaconda3\\lib\\site-packages\\sklearn\\linear_model\\logistic.py:460: FutureWarning: Default multi_class will be changed to 'auto' in 0.22. Specify the multi_class option to silence this warning.\n",
      "  \"this warning.\", FutureWarning)\n"
     ]
    },
    {
     "data": {
      "text/plain": [
       "LogisticRegression(C=1.0, class_weight=None, dual=False, fit_intercept=True,\n",
       "          intercept_scaling=1, max_iter=100, multi_class='warn',\n",
       "          n_jobs=None, penalty='l2', random_state=None, solver='warn',\n",
       "          tol=0.0001, verbose=0, warm_start=False)"
      ]
     },
     "execution_count": 45,
     "metadata": {},
     "output_type": "execute_result"
    }
   ],
   "source": [
    "classifier.fit(X_train, y_train)"
   ]
  },
  {
   "cell_type": "code",
   "execution_count": 46,
   "metadata": {},
   "outputs": [
    {
     "name": "stdout",
     "output_type": "stream",
     "text": [
      "Training Data Score: 0.42335592817219647\n",
      "Testing Data Score: 0.42332195097089853\n"
     ]
    }
   ],
   "source": [
    "print(f\"Training Data Score: {classifier.score(X_train, y_train)}\")\n",
    "print(f\"Testing Data Score: {classifier.score(X_test, y_test)}\")"
   ]
  },
  {
   "cell_type": "code",
   "execution_count": 29,
   "metadata": {},
   "outputs": [
    {
     "name": "stdout",
     "output_type": "stream",
     "text": [
      "[-3.62339857 -2.50936086 -0.20937374 -4.99350556 -4.88947756 -4.00235646\n",
      " -2.32172182 -3.45204936 -3.33050929 -5.12359302 -1.39516565 -5.27751056\n",
      " -4.78069    -5.51781273 -6.01699442 -2.79963138]\n",
      "[[ 4.72047839e-03  6.65273958e-03  1.67711317e-03 -4.82064354e-03]\n",
      " [-1.46422764e-02 -1.86469899e-03 -4.56872340e-03 -9.81840619e-03]\n",
      " [-2.37107460e-03 -3.43593269e-03 -2.54988312e-03 -1.17932268e-03]\n",
      " [-3.90267973e-03  6.85060831e-04  1.13433953e-02 -1.15924095e-02]\n",
      " [-2.40052694e-03  8.04075471e-03  1.07424792e-03 -4.94699255e-03]\n",
      " [ 2.73235469e-03  3.43052699e-03 -4.77246982e-03 -8.27151664e-03]\n",
      " [ 2.38081653e-03  3.65866443e-04 -1.42342140e-03 -9.82247629e-03]\n",
      " [ 1.18519078e-03 -3.67126611e-03  3.46082159e-03 -1.71326257e-02]\n",
      " [ 5.24113595e-05 -7.49596531e-03 -4.44424983e-04 -9.18973607e-03]\n",
      " [-2.73979003e-02  1.06415403e-02 -4.14054151e-02 -1.24279320e-01]\n",
      " [-1.18593022e-02 -5.09713720e-04 -3.51559087e-03 -1.15718447e-02]\n",
      " [-1.11424999e-02  1.73530255e-03  7.48619120e-03 -2.83632953e-02]\n",
      " [-1.26781034e-02 -1.74876744e-03 -3.37990950e-02 -1.65753381e-02]\n",
      " [-8.22243668e-03 -9.19810098e-03  1.32528288e-02 -2.11644486e-02]\n",
      " [-1.40961430e-02 -5.62008463e-03  1.78407695e-02  1.81319783e-02]\n",
      " [ 2.09536105e-02  9.16142059e-03  1.04468645e-02  2.26463767e-02]]\n",
      "<zip object at 0x0000024692C57DC8>\n"
     ]
    }
   ],
   "source": [
    "print(classifier.intercept_)\n",
    "print(classifier.coef_)\n",
    "parameters = zip(variables, classifier.coef_)\n",
    "print(parameters)"
   ]
  },
  {
   "cell_type": "code",
   "execution_count": 32,
   "metadata": {},
   "outputs": [
    {
     "data": {
      "text/plain": [
       "array([[   0,    0,  599,    0,    0,    0,    0,    0,    0,    0,    0,\n",
       "           0,    0,    0,    0,   15],\n",
       "       [   0,    0, 1185,    0,    0,    0,    0,    0,    0,    0,    0,\n",
       "           0,    0,    0,    0,   17],\n",
       "       [   0,    0, 8204,    0,    0,    0,    0,    0,    0,    0,    0,\n",
       "           0,    0,    0,    0,  102],\n",
       "       [   0,    0,  136,    0,    0,    0,    0,    0,    0,    0,    0,\n",
       "           0,    0,    0,    0,    2],\n",
       "       [   0,    0,  156,    0,    0,    0,    0,    0,    0,    0,    0,\n",
       "           0,    0,    0,    0,    8],\n",
       "       [   0,    0,  361,    0,    0,    0,    0,    0,    0,    0,    0,\n",
       "           0,    0,    0,    0,    7],\n",
       "       [   0,    0, 1745,    0,    0,    0,    0,    0,    0,    0,    0,\n",
       "           0,    0,    0,    0,   39],\n",
       "       [   0,    0,  576,    0,    0,    0,    0,    0,    0,    0,    0,\n",
       "           0,    0,    0,    0,   13],\n",
       "       [   0,    0,  609,    0,    0,    0,    0,    0,    0,    0,    0,\n",
       "           0,    0,    0,    0,    4],\n",
       "       [   0,    0,   86,    0,    0,    0,    0,    0,    0,    0,    0,\n",
       "           0,    0,    0,    0,    0],\n",
       "       [   0,    0, 3346,    0,    0,    0,    0,    0,    0,    0,    0,\n",
       "           0,    0,    0,    0,   30],\n",
       "       [   0,    0,   94,    0,    0,    0,    0,    0,    0,    0,    0,\n",
       "           0,    0,    0,    0,    0],\n",
       "       [   0,    0,  121,    0,    0,    0,    0,    0,    0,    0,    0,\n",
       "           0,    0,    0,    0,    0],\n",
       "       [   0,    0,   68,    0,    0,    0,    0,    0,    0,    0,    0,\n",
       "           0,    0,    0,    0,    0],\n",
       "       [   0,    0,   40,    0,    0,    0,    0,    0,    0,    0,    0,\n",
       "           0,    0,    0,    0,    3],\n",
       "       [   0,    0, 1927,    0,    0,    0,    0,    0,    0,    0,    0,\n",
       "           0,    0,    0,    0,  128]], dtype=int64)"
      ]
     },
     "execution_count": 32,
     "metadata": {},
     "output_type": "execute_result"
    }
   ],
   "source": [
    "from sklearn.metrics import confusion_matrix\n",
    "predictions = classifier.predict(X_test)\n",
    "\n",
    "confusion_matrix(y_test, predictions)"
   ]
  },
  {
   "cell_type": "code",
   "execution_count": 31,
   "metadata": {},
   "outputs": [
    {
     "ename": "ValueError",
     "evalue": "x and y must be the same size",
     "output_type": "error",
     "traceback": [
      "\u001b[1;31m---------------------------------------------------------------------------\u001b[0m",
      "\u001b[1;31mValueError\u001b[0m                                Traceback (most recent call last)",
      "\u001b[1;32m<ipython-input-31-b824115799e8>\u001b[0m in \u001b[0;36m<module>\u001b[1;34m\u001b[0m\n\u001b[0;32m      1\u001b[0m \u001b[1;33m\u001b[0m\u001b[0m\n\u001b[1;32m----> 2\u001b[1;33m \u001b[0mplt\u001b[0m\u001b[1;33m.\u001b[0m\u001b[0mscatter\u001b[0m\u001b[1;33m(\u001b[0m\u001b[0mX_test\u001b[0m\u001b[1;33m,\u001b[0m \u001b[0my_test\u001b[0m\u001b[1;33m,\u001b[0m  \u001b[0mcolor\u001b[0m\u001b[1;33m=\u001b[0m\u001b[1;34m'black'\u001b[0m\u001b[1;33m)\u001b[0m\u001b[1;33m\u001b[0m\u001b[1;33m\u001b[0m\u001b[0m\n\u001b[0m",
      "\u001b[1;32m~\\AppData\\Local\\Continuum\\anaconda3\\lib\\site-packages\\matplotlib\\pyplot.py\u001b[0m in \u001b[0;36mscatter\u001b[1;34m(x, y, s, c, marker, cmap, norm, vmin, vmax, alpha, linewidths, verts, edgecolors, data, **kwargs)\u001b[0m\n\u001b[0;32m   2862\u001b[0m         \u001b[0mvmin\u001b[0m\u001b[1;33m=\u001b[0m\u001b[0mvmin\u001b[0m\u001b[1;33m,\u001b[0m \u001b[0mvmax\u001b[0m\u001b[1;33m=\u001b[0m\u001b[0mvmax\u001b[0m\u001b[1;33m,\u001b[0m \u001b[0malpha\u001b[0m\u001b[1;33m=\u001b[0m\u001b[0malpha\u001b[0m\u001b[1;33m,\u001b[0m \u001b[0mlinewidths\u001b[0m\u001b[1;33m=\u001b[0m\u001b[0mlinewidths\u001b[0m\u001b[1;33m,\u001b[0m\u001b[1;33m\u001b[0m\u001b[1;33m\u001b[0m\u001b[0m\n\u001b[0;32m   2863\u001b[0m         verts=verts, edgecolors=edgecolors, **({\"data\": data} if data\n\u001b[1;32m-> 2864\u001b[1;33m         is not None else {}), **kwargs)\n\u001b[0m\u001b[0;32m   2865\u001b[0m     \u001b[0msci\u001b[0m\u001b[1;33m(\u001b[0m\u001b[0m__ret\u001b[0m\u001b[1;33m)\u001b[0m\u001b[1;33m\u001b[0m\u001b[1;33m\u001b[0m\u001b[0m\n\u001b[0;32m   2866\u001b[0m     \u001b[1;32mreturn\u001b[0m \u001b[0m__ret\u001b[0m\u001b[1;33m\u001b[0m\u001b[1;33m\u001b[0m\u001b[0m\n",
      "\u001b[1;32m~\\AppData\\Local\\Continuum\\anaconda3\\lib\\site-packages\\matplotlib\\__init__.py\u001b[0m in \u001b[0;36minner\u001b[1;34m(ax, data, *args, **kwargs)\u001b[0m\n\u001b[0;32m   1808\u001b[0m                         \u001b[1;34m\"the Matplotlib list!)\"\u001b[0m \u001b[1;33m%\u001b[0m \u001b[1;33m(\u001b[0m\u001b[0mlabel_namer\u001b[0m\u001b[1;33m,\u001b[0m \u001b[0mfunc\u001b[0m\u001b[1;33m.\u001b[0m\u001b[0m__name__\u001b[0m\u001b[1;33m)\u001b[0m\u001b[1;33m,\u001b[0m\u001b[1;33m\u001b[0m\u001b[1;33m\u001b[0m\u001b[0m\n\u001b[0;32m   1809\u001b[0m                         RuntimeWarning, stacklevel=2)\n\u001b[1;32m-> 1810\u001b[1;33m             \u001b[1;32mreturn\u001b[0m \u001b[0mfunc\u001b[0m\u001b[1;33m(\u001b[0m\u001b[0max\u001b[0m\u001b[1;33m,\u001b[0m \u001b[1;33m*\u001b[0m\u001b[0margs\u001b[0m\u001b[1;33m,\u001b[0m \u001b[1;33m**\u001b[0m\u001b[0mkwargs\u001b[0m\u001b[1;33m)\u001b[0m\u001b[1;33m\u001b[0m\u001b[1;33m\u001b[0m\u001b[0m\n\u001b[0m\u001b[0;32m   1811\u001b[0m \u001b[1;33m\u001b[0m\u001b[0m\n\u001b[0;32m   1812\u001b[0m         inner.__doc__ = _add_data_doc(inner.__doc__,\n",
      "\u001b[1;32m~\\AppData\\Local\\Continuum\\anaconda3\\lib\\site-packages\\matplotlib\\axes\\_axes.py\u001b[0m in \u001b[0;36mscatter\u001b[1;34m(self, x, y, s, c, marker, cmap, norm, vmin, vmax, alpha, linewidths, verts, edgecolors, **kwargs)\u001b[0m\n\u001b[0;32m   4180\u001b[0m         \u001b[0my\u001b[0m \u001b[1;33m=\u001b[0m \u001b[0mnp\u001b[0m\u001b[1;33m.\u001b[0m\u001b[0mma\u001b[0m\u001b[1;33m.\u001b[0m\u001b[0mravel\u001b[0m\u001b[1;33m(\u001b[0m\u001b[0my\u001b[0m\u001b[1;33m)\u001b[0m\u001b[1;33m\u001b[0m\u001b[1;33m\u001b[0m\u001b[0m\n\u001b[0;32m   4181\u001b[0m         \u001b[1;32mif\u001b[0m \u001b[0mx\u001b[0m\u001b[1;33m.\u001b[0m\u001b[0msize\u001b[0m \u001b[1;33m!=\u001b[0m \u001b[0my\u001b[0m\u001b[1;33m.\u001b[0m\u001b[0msize\u001b[0m\u001b[1;33m:\u001b[0m\u001b[1;33m\u001b[0m\u001b[1;33m\u001b[0m\u001b[0m\n\u001b[1;32m-> 4182\u001b[1;33m             \u001b[1;32mraise\u001b[0m \u001b[0mValueError\u001b[0m\u001b[1;33m(\u001b[0m\u001b[1;34m\"x and y must be the same size\"\u001b[0m\u001b[1;33m)\u001b[0m\u001b[1;33m\u001b[0m\u001b[1;33m\u001b[0m\u001b[0m\n\u001b[0m\u001b[0;32m   4183\u001b[0m \u001b[1;33m\u001b[0m\u001b[0m\n\u001b[0;32m   4184\u001b[0m         \u001b[1;32mif\u001b[0m \u001b[0ms\u001b[0m \u001b[1;32mis\u001b[0m \u001b[1;32mNone\u001b[0m\u001b[1;33m:\u001b[0m\u001b[1;33m\u001b[0m\u001b[1;33m\u001b[0m\u001b[0m\n",
      "\u001b[1;31mValueError\u001b[0m: x and y must be the same size"
     ]
    },
    {
     "data": {
      "image/png": "[encoded data removed]",
      "text/plain": [
       "<Figure size 432x288 with 1 Axes>"
      ]
     },
     "metadata": {
      "needs_background": "light"
     },
     "output_type": "display_data"
    }
   ],
   "source": [
    "\n",
    "plt.scatter(X_test, y_test,  color='black')\n"
   ]
  },
  {
   "cell_type": "code",
   "execution_count": 41,
   "metadata": {},
   "outputs": [
    {
     "data": {
      "text/plain": [
       "[(0.8027616085686651, 'PERSON_CODE'),\n",
       " (0.08489879902277236, 'ROAD_CODE'),\n",
       " (0.0725737069922274, 'WEATHER_CODE'),\n",
       " (0.039765885416335155, 'VEHICLE_CODE')]"
      ]
     },
     "execution_count": 41,
     "metadata": {},
     "output_type": "execute_result"
    }
   ],
   "source": [
    "from sklearn.ensemble import RandomForestClassifier\n",
    "rf = RandomForestClassifier(n_estimators=5)\n",
    "rf = rf.fit(X_train, y_train)\n",
    "rf.score(X_test, y_test)\n",
    "\n",
    "sorted(zip(rf.feature_importances_, variables), reverse=True)\n"
   ]
  }
 ],
 "metadata": {
  "kernelspec": {
   "display_name": "Python 3",
   "language": "python",
   "name": "python3"
  },
  "language_info": {
   "codemirror_mode": {
    "name": "ipython",
    "version": 3
   },
   "file_extension": ".py",
   "mimetype": "text/x-python",
   "name": "python",
   "nbconvert_exporter": "python",
   "pygments_lexer": "ipython3",
   "version": "3.7.1"
  }
 },
 "nbformat": 4,
 "nbformat_minor": 2
}
